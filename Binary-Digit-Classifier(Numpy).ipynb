{
 "cells": [
  {
   "cell_type": "code",
   "execution_count": 1,
   "id": "43681404",
   "metadata": {},
   "outputs": [],
   "source": [
    "# Imports\n",
    "import numpy as np\n",
    "import matplotlib.pyplot as plt\n",
    "from sklearn.datasets import load_digits\n",
    "from sklearn.model_selection import train_test_split\n",
    "from sklearn.preprocessing import StandardScaler\n"
   ]
  },
  {
   "cell_type": "code",
   "execution_count": 2,
   "id": "ecd024d6",
   "metadata": {},
   "outputs": [],
   "source": [
    "# Activation & Dense Layer\n",
    "def sigmoid(z):\n",
    "    return 1 / (1 + np.exp(-z))\n",
    "\n",
    "def my_dense(a_in, W, b, g):\n",
    "    units = W.shape[1]\n",
    "    a_out = np.zeros(units)\n",
    "    for j in range(units):\n",
    "        z = np.dot(a_in, W[:, j]) + b[j]\n",
    "        a_out[j] = g(z)\n",
    "    return a_out\n"
   ]
  },
  {
   "cell_type": "code",
   "execution_count": 3,
   "id": "23a29102",
   "metadata": {},
   "outputs": [],
   "source": [
    "# Model Architecture\n",
    "def my_sequential(x, W1, b1, W2, b2, W3, b3):\n",
    "    a1 = my_dense(x, W1, b1, sigmoid)\n",
    "    a2 = my_dense(a1, W2, b2, sigmoid)\n",
    "    a3 = my_dense(a2, W3, b3, sigmoid)\n",
    "    return a3\n"
   ]
  },
  {
   "cell_type": "code",
   "execution_count": 4,
   "id": "a07a4722",
   "metadata": {},
   "outputs": [],
   "source": [
    "# Data Preparation\n",
    "def prepare_data():\n",
    "    digits = load_digits()\n",
    "    X, y = digits.data, digits.target\n",
    "    idx = np.where((y == 0) | (y == 1))\n",
    "    X, y = X[idx], y[idx].reshape(-1, 1)\n",
    "    scaler = StandardScaler()\n",
    "    X = scaler.fit_transform(X)\n",
    "    return train_test_split(X, y, test_size=0.2, random_state=42)\n"
   ]
  },
  {
   "cell_type": "code",
   "execution_count": 5,
   "id": "d31d1b18",
   "metadata": {},
   "outputs": [],
   "source": [
    "#  Weight Initialization\n",
    "def initialize_weights():\n",
    "    W1 = np.random.randn(64, 25) * 0.01\n",
    "    b1 = np.zeros(25)\n",
    "    W2 = np.random.randn(25, 15) * 0.01\n",
    "    b2 = np.zeros(15)\n",
    "    W3 = np.random.randn(15, 1) * 0.01\n",
    "    b3 = np.zeros(1)\n",
    "    return W1, b1, W2, b2, W3, b3\n"
   ]
  },
  {
   "cell_type": "code",
   "execution_count": 6,
   "id": "d00a8956",
   "metadata": {},
   "outputs": [],
   "source": [
    "#Forward Pass & Metrics\n",
    "def forward_pass(X, weights):\n",
    "    outputs = []\n",
    "    for x in X:\n",
    "        out = my_sequential(x, *weights)\n",
    "        outputs.append(out)\n",
    "    return np.array(outputs).reshape(-1, 1)\n",
    "\n",
    "def compute_loss(y, y_hat):\n",
    "    m = y.shape[0]\n",
    "    return -1/m * np.sum(y * np.log(y_hat + 1e-8) + (1 - y) * np.log(1 - y_hat + 1e-8))\n",
    "\n",
    "def compute_accuracy(y, y_hat):\n",
    "    y_pred = y_hat >= 0.5\n",
    "    return np.mean(y.flatten() == y_pred.flatten())\n"
   ]
  },
  {
   "cell_type": "code",
   "execution_count": 9,
   "id": "a47b2885",
   "metadata": {},
   "outputs": [],
   "source": [
    "#Training Loop\n",
    "def train(X, y, weights, epochs=1000, lr=0.1):\n",
    "    W1, b1, W2, b2, W3, b3 = weights\n",
    "    m = X.shape[0]\n",
    "    for epoch in range(epochs):\n",
    "        dW1, db1 = np.zeros_like(W1), np.zeros_like(b1)\n",
    "        dW2, db2 = np.zeros_like(W2), np.zeros_like(b2)\n",
    "        dW3, db3 = np.zeros_like(W3), np.zeros_like(b3)\n",
    "        loss = 0\n",
    "\n",
    "        for i in range(m):\n",
    "            x_i = X[i]\n",
    "            y_i = y[i]\n",
    "\n",
    "            z1 = np.dot(x_i, W1) + b1\n",
    "            a1 = sigmoid(z1)\n",
    "            z2 = np.dot(a1, W2) + b2\n",
    "            a2 = sigmoid(z2)\n",
    "            z3 = np.dot(a2, W3) + b3\n",
    "            a3 = sigmoid(z3)\n",
    "\n",
    "            loss += - (y_i * np.log(a3 + 1e-8) + (1 - y_i) * np.log(1 - a3 + 1e-8))\n",
    "\n",
    "            dz3 = a3 - y_i\n",
    "            dW3 += np.outer(a2, dz3)\n",
    "            db3 += dz3\n",
    "\n",
    "            dz2 = np.dot(W3, dz3) * a2 * (1 - a2)\n",
    "            dW2 += np.outer(a1, dz2)\n",
    "            db2 += dz2\n",
    "\n",
    "            dz1 = np.dot(W2, dz2) * a1 * (1 - a1)\n",
    "            dW1 += np.outer(x_i, dz1)\n",
    "            db1 += dz1\n",
    "\n",
    "        loss /= m\n",
    "        W1 -= lr * dW1 / m\n",
    "        b1 -= lr * db1 / m\n",
    "        W2 -= lr * dW2 / m\n",
    "        b2 -= lr * db2 / m\n",
    "        W3 -= lr * dW3 / m\n",
    "        b3 -= lr * db3 / m\n",
    "\n",
    "        if epoch % 200 == 0:\n",
    "            print(f\"Epoch {epoch}: Loss = {float(loss):.4f}\")\n",
    "\n",
    "\n",
    "    return W1, b1, W2, b2, W3, b3\n"
   ]
  },
  {
   "cell_type": "code",
   "execution_count": 10,
   "id": "99c5b49e",
   "metadata": {},
   "outputs": [
    {
     "name": "stdout",
     "output_type": "stream",
     "text": [
      "Epoch 0: Loss = 0.6932\n",
      "Epoch 200: Loss = 0.6931\n",
      "Epoch 400: Loss = 0.6931\n",
      "Epoch 600: Loss = 0.6931\n",
      "Epoch 800: Loss = 0.6931\n",
      "\n",
      "Final test accuracy: 51.39%\n"
     ]
    }
   ],
   "source": [
    "#  Main Execution\n",
    "X_train, X_test, y_train, y_test = prepare_data()\n",
    "weights = initialize_weights()\n",
    "weights = train(X_train, y_train, weights)\n",
    "y_hat_test = forward_pass(X_test, weights)\n",
    "acc = compute_accuracy(y_test, y_hat_test)\n",
    "print(f\"\\nFinal test accuracy: {acc*100:.2f}%\")\n"
   ]
  },
  {
   "cell_type": "code",
   "execution_count": 11,
   "id": "dd367400",
   "metadata": {},
   "outputs": [
    {
     "data": {
      "image/png": "[encoded data removed]",
      "text/plain": [
       "<Figure size 600x600 with 16 Axes>"
      ]
     },
     "metadata": {},
     "output_type": "display_data"
    }
   ],
   "source": [
    "# Plot Results\n",
    "fig, axes = plt.subplots(4, 4, figsize=(6,6))\n",
    "for i, ax in enumerate(axes.flat):\n",
    "    ax.imshow(X_test[i].reshape(8,8), cmap='gray')\n",
    "    pred = int(y_hat_test[i] >= 0.5)\n",
    "    ax.set_title(f\"Pred: {pred}, True: {y_test[i][0]}\")\n",
    "    ax.axis('off')\n",
    "plt.tight_layout()\n",
    "plt.show()\n"
   ]
  },
  {
   "cell_type": "code",
   "execution_count": null,
   "id": "d56273f2",
   "metadata": {},
   "outputs": [],
   "source": []
  }
 ],
 "metadata": {
  "kernelspec": {
   "display_name": "Python 3 (ipykernel)",
   "language": "python",
   "name": "python3"
  },
  "language_info": {
   "codemirror_mode": {
    "name": "ipython",
    "version": 3
   },
   "file_extension": ".py",
   "mimetype": "text/x-python",
   "name": "python",
   "nbconvert_exporter": "python",
   "pygments_lexer": "ipython3",
   "version": "3.11.5"
  }
 },
 "nbformat": 4,
 "nbformat_minor": 5
}
